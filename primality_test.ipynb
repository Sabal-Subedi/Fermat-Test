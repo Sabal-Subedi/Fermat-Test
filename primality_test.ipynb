{
 "cells": [
  {
   "cell_type": "code",
   "execution_count": 1,
   "metadata": {},
   "outputs": [],
   "source": [
    "# Libraries needed\n",
    "import random\n",
    "import math"
   ]
  },
  {
   "cell_type": "code",
   "execution_count": 2,
   "metadata": {},
   "outputs": [],
   "source": [
    "# Generates Random positive integer between 2 and N-1\n",
    "def get_random_integer(n:int):\n",
    "    return random.randint(2,n-1) # generating random value between 2 and N-1"
   ]
  },
  {
   "cell_type": "code",
   "execution_count": 3,
   "metadata": {},
   "outputs": [],
   "source": [
    "# Computes modular exponential\n",
    "def get_modular(x:int, y:int, N:int):\n",
    "    if y == 0: \n",
    "        return 1\n",
    "    \n",
    "    # Make recursive call    \n",
    "    z = get_modular(x, math.floor(y/2), N)\n",
    "    \n",
    "    z_square = z*z\n",
    "    if y % 2 == 0:\n",
    "        return z_square % N\n",
    "    else:\n",
    "        return (x*z_square) % N"
   ]
  },
  {
   "cell_type": "code",
   "execution_count": 4,
   "metadata": {},
   "outputs": [],
   "source": [
    "def fermat_test(N:int, k:int = 1):\n",
    "    result_modular=0\n",
    "    while(k>0):\n",
    "        a = get_random_integer(N) #getting value of a; a<N\n",
    "        print(\"a = \", a) # checking the value of a\n",
    "        result_modular = get_modular(a,N-1,N)\n",
    "        print('Result from modular exponential', result_modular)\n",
    "        k-=1\n",
    "    \n",
    "    if result_modular == 1:\n",
    "            return \"Prime\"\n",
    "    return \"Composite\"    "
   ]
  },
  {
   "cell_type": "code",
   "execution_count": 10,
   "metadata": {},
   "outputs": [],
   "source": [
    "# Miller-Rabin Test\n",
    "def miller_rabin(N:int, k:int = 1):\n",
    "    if N<=1:\n",
    "        return 'Composite'\n",
    "    \n",
    "    if N==2 or N==3:\n",
    "        return 'Prime'\n",
    "    \n",
    "    # _epoch and _N to determine number of iteration for Miller-Rabin test\n",
    "    # flag:bool ; True indicates Prime and False indicate Composite\n",
    "    _epoch, _N = 0, N-1 \n",
    "    flag = False\n",
    "    while _N %2 ==0:\n",
    "        _epoch+=1\n",
    "        _N = _N/2\n",
    "    print('Number of epoch : ', _epoch)\n",
    "        \n",
    "    for _ in range(k): # loop for k different values of a\n",
    "        x= get_random_integer(N)\n",
    "        \n",
    "        print(\"x = \",x)\n",
    "        result_modular = get_modular(x,N-1,N) # to check whether it passes the fermet test or not\n",
    "        print(_,' : Result from modular exponential', result_modular)\n",
    "        if result_modular == 1: # test value of modular to proceed into Miller-Rabin test\n",
    "            print('inside mdul = 1')\n",
    "            flag = True\n",
    "            _power = N-1 \n",
    "            for _ in range(_epoch-1): # loops until (N-1)%2=0 \n",
    "                _power = int(_power/2) # used to get square root\n",
    "                print(_, \" : value of power : \", _power)\n",
    "                result = get_modular(x,_power,N) # computes exponentail\n",
    "                print(_,' : Result from modular exponential inside N%2 ', result)\n",
    "                if result == N or result == N-1: # tests if exponential value is 1 or -1\n",
    "                    flag= True # indicates the number N is Prime\n",
    "                    if result == N-1:\n",
    "                        break\n",
    "                else:\n",
    "                    print(\"inner else\")\n",
    "                    flag = False # indicates the number N is Composite\n",
    "        else:\n",
    "            print(\"outer else\")\n",
    "            flag = False\n",
    "        print(\"last flag check : \", flag)\n",
    "\n",
    "            \n",
    "    print(\"Flag :\", flag)\n",
    "    return \"Prime\" if flag else \"Composite\" # Return Prime or Composite based on Flag"
   ]
  },
  {
   "cell_type": "code",
   "execution_count": 11,
   "metadata": {},
   "outputs": [],
   "source": [
    "def primality(N:int, k:int):\n",
    "    print(fermat_test(N,k))\n",
    "    print(miller_rabin(N,k))"
   ]
  },
  {
   "cell_type": "code",
   "execution_count": 7,
   "metadata": {},
   "outputs": [
    {
     "name": "stdout",
     "output_type": "stream",
     "text": [
      "Number of epoch :  1\n",
      "k  3\n",
      "x =  4\n",
      "0  : Result from modular exponential 1\n",
      "inside mdul = 1\n",
      "last flag check :  0\n",
      "x =  8\n",
      "1  : Result from modular exponential 1\n",
      "inside mdul = 1\n",
      "last flag check :  0\n",
      "x =  4\n",
      "2  : Result from modular exponential 1\n",
      "inside mdul = 1\n",
      "last flag check :  0\n",
      "Flag : 0\n",
      "Composite\n"
     ]
    }
   ],
   "source": [
    "primality(11,3)"
   ]
  }
 ],
 "metadata": {
  "kernelspec": {
   "display_name": "Python 3",
   "language": "python",
   "name": "python3"
  },
  "language_info": {
   "codemirror_mode": {
    "name": "ipython",
    "version": 3
   },
   "file_extension": ".py",
   "mimetype": "text/x-python",
   "name": "python",
   "nbconvert_exporter": "python",
   "pygments_lexer": "ipython3",
   "version": "3.11.4"
  }
 },
 "nbformat": 4,
 "nbformat_minor": 2
}
